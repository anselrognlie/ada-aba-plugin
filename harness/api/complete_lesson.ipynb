{
  "cells": [
    {
      "cell_type": "markdown",
      "metadata": {
        "id": "ndLqZjR3oq9l"
      },
      "source": [
        "### Complete This Lesson\n",
        "\n",
        "Complete this lesson by entering your Learner ID and running the code cell below using the small play button next to the `learner_id` prompt. Then click the Verify link in the email that will be sent to you. Don't have a Learner ID? Register at the [Ada Build registration](https://www.adadevelopersacademy.org/ada-build) page!\n",
        "\n"
      ]
    },
    {
      "cell_type": "code",
      "execution_count": null,
      "metadata": {
        "cellView": "form",
        "id": "qrg5awVyZuhx"
      },
      "outputs": [],
      "source": [
        "LESSON_ID = \"6MGGGrMgkq\"  # paste a valid lesson slug from the db\n",
        "\n",
        "# @title Enter your Learner ID\n",
        "learner_id = \"Your Learner ID\" # @param {type:\"string\"}\n",
        "lesson_id = LESSON_ID\n",
        "from requests import post\n",
        "\n",
        "# For production, update to the production ada website\n",
        "base_url = \"https://sample-wp.local/wp-json/ada-aba/v1/completion\"\n",
        "\n",
        "# In production, the verify parameter can be left off since the url will refer to a real website\n",
        "response = post(base_url, json=dict(\n",
        "    u=learner_id,\n",
        "    lesson=lesson_id),\n",
        "    verify='sample-wp-local-chain.pem')  # replace with your own pem file\n",
        "\n",
        "if response.status_code != 200:\n",
        "    print(\"There was an error completing the lesson. Confirm your learner id\"\n",
        "          \" and try again later.\")\n",
        "else:\n",
        "    print(\"The lesson is being marked complete. Please check your email to confirm\"\n",
        "          \" this action.\")\n"
      ]
    }
  ],
  "metadata": {
    "colab": {
      "private_outputs": true,
      "provenance": []
    },
    "kernelspec": {
      "display_name": "Python 3",
      "name": "python3"
    },
    "language_info": {
      "name": "python"
    }
  },
  "nbformat": 4,
  "nbformat_minor": 0
}
